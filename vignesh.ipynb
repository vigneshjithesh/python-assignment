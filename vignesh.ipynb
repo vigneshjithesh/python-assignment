{
 "cells": [
  {
   "cell_type": "code",
   "execution_count": 1,
   "id": "03850285",
   "metadata": {},
   "outputs": [
    {
     "name": "stdout",
     "output_type": "stream",
     "text": [
      "hello world\n"
     ]
    }
   ],
   "source": [
    "#Display “Hello World” in your output screen.\n",
    "print(\"hello world\")"
   ]
  },
  {
   "cell_type": "code",
   "execution_count": 4,
   "id": "93f47fd9",
   "metadata": {},
   "outputs": [
    {
     "name": "stdout",
     "output_type": "stream",
     "text": [
      "Enter a number:5\n",
      "Enter a number:9\n",
      "the sum: 14\n"
     ]
    }
   ],
   "source": [
    "#Get the input from the user and perform addition of two numbers.\n",
    "a=int(input(\"Enter a number:\"))\n",
    "b=int(input(\"Enter a number:\"))\n",
    "c=a+b\n",
    "print(\"the sum:\",c)"
   ]
  },
  {
   "cell_type": "code",
   "execution_count": 5,
   "id": "4a9abc35",
   "metadata": {},
   "outputs": [
    {
     "name": "stdout",
     "output_type": "stream",
     "text": [
      "Enter a number:6\n",
      "Enter a number:8\n",
      "A= 6\n",
      "B= 8\n",
      "After swapping:\n",
      "A= 8\n",
      "B= 6\n"
     ]
    }
   ],
   "source": [
    "#swap two variables without temp variable\n",
    "a=int(input(\"Enter a number:\"))\n",
    "b=int(input(\"Enter a number:\"))\n",
    "print(\"A=\",a)\n",
    "print(\"B=\",b)\n",
    "print(\"After swapping:\")\n",
    "a,b=b,a\n",
    "print(\"A=\",a)\n",
    "print(\"B=\",b)"
   ]
  },
  {
   "cell_type": "code",
   "execution_count": 6,
   "id": "d9a7bd42",
   "metadata": {},
   "outputs": [
    {
     "name": "stdout",
     "output_type": "stream",
     "text": [
      "enter km value: 4\n",
      "the miles value is :   2.485484\n"
     ]
    }
   ],
   "source": [
    "#convert the entered kilometres ( Convertion  Factor= 0.621371)\n",
    "a=int(input(\"enter km value: \"))\n",
    "miles=a*0.621371\n",
    "print(\"the miles value is :  \", miles)\n"
   ]
  },
  {
   "cell_type": "code",
   "execution_count": 7,
   "id": "52ba1067",
   "metadata": {},
   "outputs": [
    {
     "name": "stdout",
     "output_type": "stream",
     "text": [
      "enter number 1 : 9\n",
      "the number is positive\n"
     ]
    }
   ],
   "source": [
    "#check whether the given number is positive, negative or 0\n",
    "a=int(input(\"enter number 1 : \"))\n",
    "if a>=0:\n",
    "    print(\"the number is positive\")\n",
    "else:\n",
    "    print(\" the number is negative\")"
   ]
  },
  {
   "cell_type": "code",
   "execution_count": 8,
   "id": "6bde4738",
   "metadata": {},
   "outputs": [
    {
     "name": "stdout",
     "output_type": "stream",
     "text": [
      "enter year : 2024\n",
      "the year is a leap year\n"
     ]
    }
   ],
   "source": [
    "#verify that the given year is a leap year\n",
    "a=int(input(\"enter year : \"))\n",
    "if a%4==0:\n",
    "    if a%100==0:\n",
    "        if a%400==0:\n",
    "            print(\"the year is a leap year\")\n",
    "        else:\n",
    "            print(\"the year is not a leap year\")\n",
    "    else:\n",
    "        print(\"the year is a leap year\")\n",
    "else:\n",
    "    print(\"the year is not a leap year\")"
   ]
  },
  {
   "cell_type": "code",
   "execution_count": 10,
   "id": "1d4593df",
   "metadata": {},
   "outputs": [
    {
     "name": "stdout",
     "output_type": "stream",
     "text": [
      "Enter a start range:1\n",
      "Enter a end range:10\n",
      "2\n",
      "3\n",
      "5\n",
      "7\n"
     ]
    }
   ],
   "source": [
    "#display the prime numbers within the given interval\n",
    "a=int(input(\"Enter a start range:\"))\n",
    "b=int(input(\"Enter a end range:\"))\n",
    "c=0\n",
    "if a==1:\n",
    "    a=2\n",
    "for i in range (a,b):\n",
    "    c=0\n",
    "    for j in range (2,i):       \n",
    "        if i%j==0:\n",
    "            c=1\n",
    "    if c==0:\n",
    "        print(i)"
   ]
  },
  {
   "cell_type": "code",
   "execution_count": 3,
   "id": "c2a17866",
   "metadata": {},
   "outputs": [
    {
     "name": "stdout",
     "output_type": "stream",
     "text": [
      "Enter the number of terms: 7\n",
      "Fibonacci sequence up to 7 terms:\n",
      "0\n",
      "1\n",
      "1\n",
      "2\n",
      "3\n",
      "5\n",
      "8\n"
     ]
    }
   ],
   "source": [
    "#display the Fibonacci sequence up to n-th term\n",
    "n = int(input(\"Enter the number of terms: \"))\n",
    "a = 0\n",
    "b = 1\n",
    "if n <= 0:\n",
    "    print(\"Invalid input!\")\n",
    "elif n == 1:\n",
    "    print(\"Fibonacci sequence up to\", n, \"term:\")\n",
    "    print(a)\n",
    "else:\n",
    "    print(\"Fibonacci sequence up to\", n, \"terms:\")\n",
    "    print(a)\n",
    "    print(b)\n",
    "    for i in range(2, n):\n",
    "        c = a + b\n",
    "        print(c)\n",
    "        a = b\n",
    "        b = c\n"
   ]
  },
  {
   "cell_type": "code",
   "execution_count": 4,
   "id": "a8369cf1",
   "metadata": {},
   "outputs": [
    {
     "name": "stdout",
     "output_type": "stream",
     "text": [
      "enter a three digit number  : 153\n",
      "the number is an armstrong number\n"
     ]
    }
   ],
   "source": [
    "#check if the number is an Armstrong number or not\n",
    "a=int(input(\"enter a three digit number  : \"))#123\n",
    "b=a//100#1\n",
    "c=a%100\n",
    "d=c//10#2\n",
    "e=c%10#3\n",
    "num=(b**3)+(d**3)+(e**3)\n",
    "if num==a:\n",
    "    print(\"the number is an armstrong number\")\n",
    "else :\n",
    "    print(\"its not an armstrong number\")"
   ]
  },
  {
   "cell_type": "code",
   "execution_count": 5,
   "id": "4dd3b5a5",
   "metadata": {},
   "outputs": [
    {
     "name": "stdout",
     "output_type": "stream",
     "text": [
      "enter number : 10\n",
      "55\n"
     ]
    }
   ],
   "source": [
    "#Find the Sum of natural numbers up to n-th term\n",
    "a=int(input(\"enter number : \"))\n",
    "b=0\n",
    "for i in range (a+1):\n",
    "    b=b+i\n",
    "print(b)\n"
   ]
  },
  {
   "cell_type": "code",
   "execution_count": 6,
   "id": "62b438f7",
   "metadata": {},
   "outputs": [
    {
     "name": "stdout",
     "output_type": "stream",
     "text": [
      "*\n",
      "**\n",
      "***\n",
      "****\n",
      "*****\n"
     ]
    }
   ],
   "source": [
    "#Write a function called show_stars(rows). If rows are 5, it should print the following:\n",
    "for i in range(1,6):\n",
    "    print(\"*\"*i)"
   ]
  },
  {
   "cell_type": "code",
   "execution_count": 10,
   "id": "9dfcf504",
   "metadata": {},
   "outputs": [
    {
     "name": "stdout",
     "output_type": "stream",
     "text": [
      "Enter a string: my friend is a fool\n",
      "Enter the number of characters to remove: 5\n",
      "New string: iend is a fool\n"
     ]
    }
   ],
   "source": [
    "#Write a program to remove characters from a string starting from zero up to n and return a new string.\n",
    "str = input(\"Enter a string: \")\n",
    "n = int(input(\"Enter the number of characters to remove: \"))\n",
    "new_str = str[n:]\n",
    "print(\"New string:\", new_str)"
   ]
  },
  {
   "cell_type": "code",
   "execution_count": 13,
   "id": "347e1c7f",
   "metadata": {},
   "outputs": [
    {
     "name": "stdout",
     "output_type": "stream",
     "text": [
      "enter the no.of number:5\n",
      "enter the number:45\n",
      "enter the number:14\n",
      "enter the number:25\n",
      "enter the number:40\n",
      "enter the number:36\n",
      "[45, 25, 40]\n"
     ]
    }
   ],
   "source": [
    "#Iterate the given list of numbers and print only those numbers which are divisible by 5\n",
    "list=[]\n",
    "n=int(input(\"enter the no.of number:\"))\n",
    "for i in range(n):\n",
    "    i=int(input(\"enter the number:\"))\n",
    "    list.append(i)\n",
    "for i in list:\n",
    "    if( i%5!=0):\n",
    "        list.remove(i)\n",
    "print(list)    "
   ]
  },
  {
   "cell_type": "code",
   "execution_count": 15,
   "id": "8ed3fa72",
   "metadata": {},
   "outputs": [
    {
     "name": "stdout",
     "output_type": "stream",
     "text": [
      "enter a sentence : hi mynj hihihi\n",
      "'hi' is present 1 times\n"
     ]
    }
   ],
   "source": [
    "#Write a program to find how many times substring “Hi” appears in the given string.\n",
    "g=input(\"enter a sentence : \")\n",
    "list=g.split(' ')\n",
    "n=len(list)\n",
    "c=0\n",
    "for i in range (n):\n",
    "    if list[i]=='hi':\n",
    "        c+=1\n",
    "if c!=0:\n",
    "    print(\"'hi' is present {} times\".format(c))\n",
    "else:\n",
    "    print(\"'hi' is not present\")\n",
    "        "
   ]
  },
  {
   "cell_type": "code",
   "execution_count": 24,
   "id": "7943ae89",
   "metadata": {},
   "outputs": [
    {
     "name": "stdout",
     "output_type": "stream",
     "text": [
      "1\n",
      "22\n",
      "333\n",
      "4444\n",
      "55555\n"
     ]
    }
   ],
   "source": [
    "#Print the following pattern\n",
    "for i in range(1,6):\n",
    "    for j in range (i):\n",
    "        print(i,end=\"\")\n",
    "    print(end=\"\\n\")"
   ]
  },
  {
   "cell_type": "code",
   "execution_count": 25,
   "id": "f21b0e1c",
   "metadata": {},
   "outputs": [
    {
     "name": "stdout",
     "output_type": "stream",
     "text": [
      "enter the name : malayalam\n",
      "its a palindrome\n"
     ]
    }
   ],
   "source": [
    "#Write a program to check if the given number is a palindrome number.\n",
    "name=input(\"enter the name : \")\n",
    "rev=name[::-1]\n",
    "if name==rev:\n",
    "    print(\"its a palindrome\")\n",
    "else :\n",
    "    print(\"its not a palindrome\")"
   ]
  },
  {
   "cell_type": "code",
   "execution_count": 27,
   "id": "6b3eeab0",
   "metadata": {},
   "outputs": [
    {
     "name": "stdout",
     "output_type": "stream",
     "text": [
      "enter the number of elements:3\n",
      "enter the numbers45\n",
      "enter the numbers67\n",
      "enter the numbers90\n",
      "[45, 67, 90]\n",
      "[90, 67, 45]\n"
     ]
    }
   ],
   "source": [
    "#Python program to interchange first and last elements in a list\n",
    "list=[]\n",
    "n=int(input(\"enter the number of elements:\"))\n",
    "for i in range(n):\n",
    "    i=int(input(\"enter the numbers:\"))\n",
    "    list.append(i)\n",
    "print(list) \n",
    "list[0],list[n-1]=list[n-1],list[0]\n",
    "print(list)"
   ]
  },
  {
   "cell_type": "code",
   "execution_count": 3,
   "id": "6ab07557",
   "metadata": {},
   "outputs": [
    {
     "name": "stdout",
     "output_type": "stream",
     "text": [
      "enter the number of element:5\n",
      "enter the elements:5\n",
      "enter the elements:8\n",
      "enter the elements:7\n",
      "enter the elements:6\n",
      "enter the elements:3\n",
      "[5, 8, 7, 6, 3]\n",
      "index 0 = 5\n",
      "index 1 = 8\n",
      "index 2 = 7\n",
      "index 3 = 6\n",
      "index 4 = 3\n",
      "enter the index value:4\n",
      "enter the index value:0\n",
      "the swapped list is: [3, 8, 7, 6, 5]\n"
     ]
    }
   ],
   "source": [
    "#Python program to swap two elements in a list\n",
    "n=int(input(\"enter the number of element:\"))\n",
    "list=[]\n",
    "for i in range(n):\n",
    "    a=int(input(\"enter the elements:\"))\n",
    "    list.append(a)\n",
    "print(list) \n",
    "for i in range(n):\n",
    "    print(\"index\",i,\"=\",list[i])\n",
    "m=int(input(\"enter the index value:\"))\n",
    "s=int(input(\"enter the index value:\"))\n",
    "list[m],list[s]=list[s],list[m]\n",
    "print(\"the swapped list is:\",list)"
   ]
  },
  {
   "cell_type": "code",
   "execution_count": 14,
   "id": "5225d692",
   "metadata": {},
   "outputs": [
    {
     "name": "stdout",
     "output_type": "stream",
     "text": [
      "[1, 2, 3, 4, 5, 6, 7, 8, 9, 10]\n",
      "the no. of element is: 10\n",
      "[1, 2, 3, 4, 5, 6, 7, 8, 9, 10]\n",
      "the no. of element is: 10\n"
     ]
    }
   ],
   "source": [
    "#Python | Ways to find length of list\n",
    "list=[1,2,3,4,5,6,7,8,9,10]\n",
    "print(list) \n",
    "n=len(list)\n",
    "print(\"the no. of element is:\",n)\n",
    "#or\n",
    "list=[1,2,3,4,5,6,7,8,9,10]\n",
    "print(list) \n",
    "c=0\n",
    "for i in list:\n",
    "    c+=1\n",
    "print(\"the no. of element is:\",c)    "
   ]
  },
  {
   "cell_type": "code",
   "execution_count": 16,
   "id": "93961698",
   "metadata": {},
   "outputs": [
    {
     "name": "stdout",
     "output_type": "stream",
     "text": [
      "enter the elements:4\n",
      "enter the elements:5\n",
      "the maximum number is: 5\n"
     ]
    }
   ],
   "source": [
    "#Maximum of two numbers in Python\n",
    "a=int(input(\"enter the elements:\"))\n",
    "b=int(input(\"enter the elements:\"))\n",
    "max=max(a,b)\n",
    "print(\"the maximum number is:\",max)      "
   ]
  },
  {
   "cell_type": "code",
   "execution_count": 17,
   "id": "1811d156",
   "metadata": {
    "scrolled": true
   },
   "outputs": [
    {
     "name": "stdout",
     "output_type": "stream",
     "text": [
      "enter the elements:45\n",
      "enter the elements:67\n",
      "the minimum number is: 45\n"
     ]
    }
   ],
   "source": [
    "#Minimum of two numbers in Python\n",
    "a=int(input(\"enter the elements:\"))\n",
    "b=int(input(\"enter the elements:\"))\n",
    "min=min(a,b)\n",
    "print(\"the minimum number is:\",min)      "
   ]
  },
  {
   "cell_type": "code",
   "execution_count": 37,
   "id": "76f43bbc",
   "metadata": {},
   "outputs": [
    {
     "name": "stdout",
     "output_type": "stream",
     "text": [
      "enter the string:malayalam\n",
      "malayalam\n",
      "it is not symmetrical\n",
      "it is palindrome\n"
     ]
    }
   ],
   "source": [
    "#Python program to check whether the string is Symmetrical or Palindrome\n",
    "a=input(\"enter the string:\")\n",
    "print(a)\n",
    "half=int((len(a)/2))\n",
    "first=a[:half]\n",
    "last=a[half:]\n",
    "x=last[::-1]\n",
    "if(first==x):\n",
    "    print(\"it is symmetrical\")\n",
    "else:\n",
    "    print(\"it is not symmetrical\")\n",
    "b=a[::-1]\n",
    "if(a==b):\n",
    "    print(\"it is palindrome\")\n",
    "else:\n",
    "    print(\"it is not palindrome\")"
   ]
  },
  {
   "cell_type": "code",
   "execution_count": 29,
   "id": "8bc17a11",
   "metadata": {},
   "outputs": [
    {
     "name": "stdout",
     "output_type": "stream",
     "text": [
      "enter the string:malayalam\n",
      "malayalam\n"
     ]
    }
   ],
   "source": [
    "#Reverse words in a given String in Python\n",
    "a=input(\"enter the string:\")\n",
    "b=''.join(reversed(a))\n",
    "print(b)\n",
    "if(a==b):\n",
    "    print(\"it is palindrome\")\n",
    "else:\n",
    "    print(\"it is not palindrome\")"
   ]
  },
  {
   "cell_type": "code",
   "execution_count": 43,
   "id": "e8e8a6ec",
   "metadata": {},
   "outputs": [
    {
     "name": "stdout",
     "output_type": "stream",
     "text": [
      "enter the string:malayalam\n",
      "enter the index value:3\n",
      "malyalam\n"
     ]
    }
   ],
   "source": [
    "#Ways to remove i’th character from string in Python\n",
    "a=input(\"enter the string:\")\n",
    "b=int(input(\"enter the index value:\"))\n",
    "c=a[:b]+a[b+1:]\n",
    "print(c)"
   ]
  },
  {
   "cell_type": "code",
   "execution_count": 44,
   "id": "22237a80",
   "metadata": {},
   "outputs": [
    {
     "name": "stdout",
     "output_type": "stream",
     "text": [
      "enter the string:hi hello\n",
      "8\n"
     ]
    }
   ],
   "source": [
    "#Find length of a string in python \n",
    "a=input(\"enter the string:\")\n",
    "n=len(a)\n",
    "print(n)"
   ]
  },
  {
   "cell_type": "code",
   "execution_count": 3,
   "id": "9fc5bfe4",
   "metadata": {},
   "outputs": [
    {
     "name": "stdout",
     "output_type": "stream",
     "text": [
      "enter the string:hi hello everyone\n",
      "hi\n",
      "everyone\n"
     ]
    }
   ],
   "source": [
    "#Python program to print even length words in a string\n",
    "a=input(\"enter the string:\")\n",
    "n=len(a)\n",
    "b=a.split(\" \")\n",
    "for i in b:\n",
    "    if(len(i)%2==0):\n",
    "        print(i)"
   ]
  },
  {
   "cell_type": "code",
   "execution_count": 1,
   "id": "e5789015",
   "metadata": {},
   "outputs": [
    {
     "name": "stdout",
     "output_type": "stream",
     "text": [
      "5\n"
     ]
    }
   ],
   "source": [
    "#Python program to Find the size of a Tuple\n",
    "tuple=(2,4,8,16,32)\n",
    "b=len(tuple)\n",
    "print(b)    "
   ]
  },
  {
   "cell_type": "code",
   "execution_count": 5,
   "id": "169a2d86",
   "metadata": {},
   "outputs": [
    {
     "name": "stdout",
     "output_type": "stream",
     "text": [
      "Maximum value=  25\n",
      "Minimum value=  5\n"
     ]
    }
   ],
   "source": [
    "#Python – Maximum and Minimum K elements in Tuple\n",
    "t=(5,10,15,20,25)\n",
    "print(\"Maximum value= \",max(t))\n",
    "print(\"Minimum value= \",min(t)) "
   ]
  },
  {
   "cell_type": "code",
   "execution_count": 6,
   "id": "880840b2",
   "metadata": {},
   "outputs": [
    {
     "name": "stdout",
     "output_type": "stream",
     "text": [
      "Sum of tuple elements: 150\n"
     ]
    }
   ],
   "source": [
    "#Python – Sum of tuple elements\n",
    "my_tuple = (10, 20, 30, 40, 50)\n",
    "total = 0\n",
    "for element in my_tuple:\n",
    "    total=total + element\n",
    "print(\"Sum of tuple elements:\", total)\n"
   ]
  },
  {
   "cell_type": "code",
   "execution_count": 10,
   "id": "4bf7f527",
   "metadata": {},
   "outputs": [
    {
     "name": "stdout",
     "output_type": "stream",
     "text": [
      "Row-wise sums: [14, 39, 84]\n"
     ]
    }
   ],
   "source": [
    "#Python – Row-wise element Addition in Tuple Matrix\n",
    "matrix = ((2, 4, 8),\n",
    "          (3, 9, 27),\n",
    "          (4, 16, 64))\n",
    "sums = []\n",
    "for row in matrix:\n",
    "    sum = 0\n",
    "    for element in row:\n",
    "        sum += element\n",
    "    sums.append(sum)\n",
    "print(\"Row-wise sums:\",sums)\n"
   ]
  }
 ],
 "metadata": {
  "kernelspec": {
   "display_name": "Python 3 (ipykernel)",
   "language": "python",
   "name": "python3"
  },
  "language_info": {
   "codemirror_mode": {
    "name": "ipython",
    "version": 3
   },
   "file_extension": ".py",
   "mimetype": "text/x-python",
   "name": "python",
   "nbconvert_exporter": "python",
   "pygments_lexer": "ipython3",
   "version": "3.10.9"
  }
 },
 "nbformat": 4,
 "nbformat_minor": 5
}
